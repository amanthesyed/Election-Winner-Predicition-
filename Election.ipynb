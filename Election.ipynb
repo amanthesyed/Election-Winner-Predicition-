{
 "cells": [
  {
   "cell_type": "code",
   "execution_count": 1,
   "metadata": {},
   "outputs": [
    {
     "name": "stdout",
     "output_type": "stream",
     "text": [
      "The probability that candidate A will win the election is: 0.6422\n",
      "The probability that candidate B will win the election is: 0.3578\n"
     ]
    }
   ],
   "source": [
    "from random import random\n",
    "\n",
    "candidate_a_win = 0\n",
    "candidate_b_win = 0\n",
    "\n",
    "trials = 10000\n",
    "for trial in range(0, trials):\n",
    "    candidate_a = 0\n",
    "    candidate_b = 0\n",
    "\n",
    "    if random() < .87:\n",
    "        candidate_a += 1\n",
    "    else:\n",
    "        candidate_b += 1\n",
    "\n",
    "    if random() < .65:\n",
    "        candidate_a += 1\n",
    "    else: candidate_b += 1\n",
    "\n",
    "    if random() < .17:\n",
    "        candidate_a += 1\n",
    "    else: candidate_b +=1\n",
    "\n",
    "    if candidate_a > candidate_b:\n",
    "        candidate_a_win += 1\n",
    "    else:\n",
    "        candidate_b_win += 1\n",
    "\n",
    "print (\"The probability that candidate A will win the election is:\", candidate_a_win/trials)\n",
    "print (\"The probability that candidate B will win the election is:\", candidate_b_win/trials)"
   ]
  },
  {
   "cell_type": "code",
   "execution_count": null,
   "metadata": {},
   "outputs": [],
   "source": []
  }
 ],
 "metadata": {
  "kernelspec": {
   "display_name": "Python 3",
   "language": "python",
   "name": "python3"
  },
  "language_info": {
   "codemirror_mode": {
    "name": "ipython",
    "version": 3
   },
   "file_extension": ".py",
   "mimetype": "text/x-python",
   "name": "python",
   "nbconvert_exporter": "python",
   "pygments_lexer": "ipython3",
   "version": "3.7.4"
  }
 },
 "nbformat": 4,
 "nbformat_minor": 2
}
